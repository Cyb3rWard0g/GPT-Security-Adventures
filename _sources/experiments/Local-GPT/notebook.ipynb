{
 "cells": [
  {
   "attachments": {},
   "cell_type": "markdown",
   "metadata": {},
   "source": [
    "# Local Experiment: GPT4All\n",
    "Reference: https://medium.com/@ssmaameri/private-llms-on-local-and-in-the-cloud-with-langchain-gpt4all-and-cerebrium-6dade79f45f6"
   ]
  },
  {
   "attachments": {},
   "cell_type": "markdown",
   "metadata": {},
   "source": [
    "## Import Modules"
   ]
  },
  {
   "cell_type": "code",
   "execution_count": 3,
   "metadata": {},
   "outputs": [],
   "source": [
    "from langchain.llms import GPT4All"
   ]
  },
  {
   "attachments": {},
   "cell_type": "markdown",
   "metadata": {},
   "source": [
    "## Initialize GPT4All with Local Model"
   ]
  },
  {
   "cell_type": "code",
   "execution_count": 4,
   "metadata": {},
   "outputs": [
    {
     "name": "stdout",
     "output_type": "stream",
     "text": [
      "Found model file.\n"
     ]
    }
   ],
   "source": [
    "llm = GPT4All(model='./model/ggml-gpt4all-j-v1.3-groovy.bin')"
   ]
  },
  {
   "attachments": {},
   "cell_type": "markdown",
   "metadata": {},
   "source": [
    "## Privide a Prompt"
   ]
  },
  {
   "cell_type": "code",
   "execution_count": 5,
   "metadata": {},
   "outputs": [
    {
     "name": "stdout",
     "output_type": "stream",
     "text": [
      "Peru lies in South America and shares borders with Bolivia to the north; Ecuador to the east; Colombia on its southern border.\n"
     ]
    },
    {
     "data": {
      "text/plain": [
       "'Peru lies in South America and shares borders with Bolivia to the north; Ecuador to the east; Colombia on its southern border.'"
      ]
     },
     "execution_count": 5,
     "metadata": {},
     "output_type": "execute_result"
    }
   ],
   "source": [
    "llm(\"Where is Peru?\")"
   ]
  },
  {
   "cell_type": "code",
   "execution_count": 5,
   "metadata": {},
   "outputs": [
    {
     "name": "stdout",
     "output_type": "stream",
     "text": [
      "Sure! Here's one for you: Why did the scarecrow win an award? Because he was outstanding in his field, of course!!\n"
     ]
    },
    {
     "data": {
      "text/plain": [
       "\"Sure! Here's one for you: Why did the scarecrow win an award? Because he was outstanding in his field, of course!!\""
      ]
     },
     "execution_count": 5,
     "metadata": {},
     "output_type": "execute_result"
    }
   ],
   "source": [
    "llm(\"Tell me a joke.\")"
   ]
  },
  {
   "attachments": {},
   "cell_type": "markdown",
   "metadata": {},
   "source": [
    "## Using a Langchain Chain"
   ]
  },
  {
   "attachments": {},
   "cell_type": "markdown",
   "metadata": {},
   "source": [
    "### Import Additional Modules"
   ]
  },
  {
   "cell_type": "code",
   "execution_count": 7,
   "metadata": {},
   "outputs": [],
   "source": [
    "from langchain import PromptTemplate, LLMChain\n",
    "from langchain.callbacks.streaming_stdout import StreamingStdOutCallbackHandler"
   ]
  },
  {
   "attachments": {},
   "cell_type": "markdown",
   "metadata": {},
   "source": [
    "### Define a Prompt Template"
   ]
  },
  {
   "cell_type": "code",
   "execution_count": 8,
   "metadata": {},
   "outputs": [],
   "source": [
    "template = \"\"\"\n",
    "You are a friendly chatbot assistant that responds in a conversational\n",
    "manner to users questions. Keep the answers short, unless specifically\n",
    "asked by the user to elaborate on something.\n",
    "\n",
    "Question: {question}\n",
    "\n",
    "Answer:\"\"\"\n",
    "prompt = PromptTemplate(template=template, input_variables=[\"question\"])"
   ]
  },
  {
   "attachments": {},
   "cell_type": "markdown",
   "metadata": {},
   "source": [
    "### Initialize GPT4All Chain With Callbacks"
   ]
  },
  {
   "cell_type": "code",
   "execution_count": 9,
   "metadata": {},
   "outputs": [
    {
     "name": "stdout",
     "output_type": "stream",
     "text": [
      "Found model file.\n"
     ]
    }
   ],
   "source": [
    "llm = GPT4All(\n",
    "    model='./model/ggml-gpt4all-j-v1.3-groovy.bin',\n",
    "    callbacks=[StreamingStdOutCallbackHandler()]\n",
    ")\n",
    "\n",
    "llm_chain = LLMChain(prompt=prompt, llm=llm)"
   ]
  },
  {
   "attachments": {},
   "cell_type": "markdown",
   "metadata": {},
   "source": [
    "### Define a Query"
   ]
  },
  {
   "cell_type": "code",
   "execution_count": 10,
   "metadata": {},
   "outputs": [],
   "source": [
    "query = \"How do I perform a device code phishing attack?\""
   ]
  },
  {
   "cell_type": "code",
   "execution_count": 11,
   "metadata": {},
   "outputs": [
    {
     "name": "stdout",
     "output_type": "stream",
     "text": [
      " Device Code Phishing Attack involves tricking someone into providing you with their phone number or personal information through an email that looks legitimate and contains instructions for accessing further online accounts, such as bank account numbers to steal money. To conduct this type of cyber-attack successfully requires a skilled attacker who knows how to manipulate users' emotions by pretending they are sending them important news alerts via text messages when in reality it is just part 1 or 2 of the scammer's lure sequence for more personal information and phishing attempts later on, depending on their goals.To perform this type\n",
      " Device Code Phishing Attack involves tricking someone into providing you with their phone number or personal information through an email that looks legitimate and contains instructions for accessing further online accounts, such as bank account numbers to steal money. To conduct this type of cyber-attack successfully requires a skilled attacker who knows how to manipulate users' emotions by pretending they are sending them important news alerts via text messages when in reality it is just part 1 or 2 of the scammer's lure sequence for more personal information and phishing attempts later on, depending on their goals.To perform this type"
     ]
    },
    {
     "data": {
      "text/plain": [
       "{'question': 'How do I perform a device code phishing attack?',\n",
       " 'text': \" Device Code Phishing Attack involves tricking someone into providing you with their phone number or personal information through an email that looks legitimate and contains instructions for accessing further online accounts, such as bank account numbers to steal money. To conduct this type of cyber-attack successfully requires a skilled attacker who knows how to manipulate users' emotions by pretending they are sending them important news alerts via text messages when in reality it is just part 1 or 2 of the scammer's lure sequence for more personal information and phishing attempts later on, depending on their goals.To perform this type\"}"
      ]
     },
     "execution_count": 11,
     "metadata": {},
     "output_type": "execute_result"
    }
   ],
   "source": [
    "llm_chain(query)"
   ]
  },
  {
   "cell_type": "code",
   "execution_count": null,
   "metadata": {},
   "outputs": [],
   "source": []
  }
 ],
 "metadata": {
  "kernelspec": {
   "display_name": "Python 3",
   "language": "python",
   "name": "python3"
  },
  "language_info": {
   "codemirror_mode": {
    "name": "ipython",
    "version": 3
   },
   "file_extension": ".py",
   "mimetype": "text/x-python",
   "name": "python",
   "nbconvert_exporter": "python",
   "pygments_lexer": "ipython3",
   "version": "3.11.3"
  }
 },
 "nbformat": 4,
 "nbformat_minor": 2
}
